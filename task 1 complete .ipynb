{
 "cells": [
  {
   "cell_type": "code",
   "execution_count": null,
   "id": "a193f0bd",
   "metadata": {},
   "outputs": [
    {
     "ename": "",
     "evalue": "",
     "output_type": "error",
     "traceback": [
      "\u001b[1;31mRunning cells with 'Python 3.12.5' requires the ipykernel package.\n",
      "\u001b[1;31m<a href='command:jupyter.createPythonEnvAndSelectController'>Create a Python Environment</a> with the required packages.\n",
      "\u001b[1;31mOr install 'ipykernel' using the command: 'c:/Users/hp/AppData/Local/Programs/Python/Python312/python.exe -m pip install ipykernel -U --user --force-reinstall'"
     ]
    }
   ],
   "source": [
    "import zipfile\n",
    "import pandas as pd\n",
    "\n",
    "\n",
    "zip_path = r\"C:/Users/hp/Downloads/data set/API.zip\"\n",
    "\n",
    "\n",
    "with zipfile.ZipFile(zip_path, 'r') as z:\n",
    "    z.extractall(\"C:/Users/hp/Downloads/data set/extracted\")\n",
    "\n",
    "\n",
    "csv_path = r\"C:/Users/hp/Downloads/data set/extracted/API_SP.POP.TOTL_DS2_en_csv_v2_38144.csv\"\n",
    "\n",
    "\n",
    "df = pd.read_csv(csv_path, skiprows=4, encoding=\"utf-8-sig\")\n",
    "print(df.head())\n",
    "\n",
    "\n",
    "year_columns = [col for col in df.columns if col.isdigit()]\n",
    "latest_year = max(year_columns)  \n",
    "\n",
    "latest_data = df[[\"Country Name\", latest_year]].dropna()\n",
    "latest_data = latest_data.sort_values(by=latest_year, ascending=False)\n",
    "\n",
    "\n",
    "fig, axes = plt.subplots(1, 2, figsize=(14, 6))\n",
    "\n",
    "# Bar Chart \n",
    "axes[0].bar(latest_data[\"Country Name\"].head(10), latest_data[latest_year].head(10))\n",
    "axes[0].set_title(f\"Top 10 Countries by Population in {latest_year}\")\n",
    "axes[0].set_ylabel(\"Population\")\n",
    "axes[0].tick_params(axis='x', rotation=45)\n",
    "\n",
    "# Histogram chart\n",
    "axes[1].hist(latest_data[latest_year] / 1_000_000, bins=20, edgecolor='black')\n",
    "axes[1].set_title(f\"Population Distribution Across Countries in {latest_year}\")\n",
    "axes[1].set_xlabel(\"Population (Millions)\")\n",
    "axes[1].set_ylabel(\"Number of Countries\")\n",
    "\n",
    "plt.tight_layout()\n",
    "plt.show()\n"
   ]
  }
 ],
 "metadata": {
  "kernelspec": {
   "display_name": "Python 3",
   "language": "python",
   "name": "python3"
  },
  "language_info": {
   "codemirror_mode": {
    "name": "ipython",
    "version": 3
   },
   "file_extension": ".py",
   "mimetype": "text/x-python",
   "name": "python",
   "nbconvert_exporter": "python",
   "pygments_lexer": "ipython3",
   "version": "3.12.5"
  }
 },
 "nbformat": 4,
 "nbformat_minor": 5
}
